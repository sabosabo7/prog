{
 "cells": [
  {
   "cell_type": "markdown",
   "metadata": {},
   "source": [
    "# [迷路問題用] 状態を定義するためのStateクラスと行動を定義するためのActionクラスを確認する"
   ]
  },
  {
   "cell_type": "code",
   "execution_count": 3,
   "metadata": {},
   "outputs": [],
   "source": [
    "import numpy as np\n",
    "import pandas as pd\n",
    "import matplotlib.pyplot as plt\n",
    "from collections import OrderedDict"
   ]
  },
  {
   "cell_type": "markdown",
   "metadata": {},
   "source": [
    "## ハッシュ関数について\n",
    "* ハッシュ関数とは、あるデータが与えられた場合にそのデータを代表する整数を返す関数のこと\n",
    " * https://ja.wikipedia.org/wiki/%E3%83%8F%E3%83%83%E3%82%B7%E3%83%A5%E9%96%A2%E6%95%B0\n",
    "* Pythonでは、hash()がハッシュ関数である\n",
    " * https://docs.python.org/3.7/library/functions.html#hash\n",
    "* Pythonのdictでは、短時間で目的とするkeyを見つけるためにハッシュ関数が利用される\n",
    "  * ハッシュ関数を利用することにより、全件探索をせずに済む\n",
    "  * dictの検索においては、ハッシュ値が一致し、かつ、\\_\\_eq\\_\\_のreturnがTrueの場合、valueを返す\n",
    "  * ハッシュ値は一致しているが、\\_\\_eq\\_\\_のreturnがFalseの場合は、エラーを返す"
   ]
  },
  {
   "cell_type": "code",
   "execution_count": 4,
   "metadata": {},
   "outputs": [
    {
     "output_type": "stream",
     "name": "stdout",
     "text": [
      "hash(123)= 123\nhash(123.456)= 1051464412201451643\nhash('a')= -4526844225963236686\nhash((1,2))= -3550055125485641917\n"
     ]
    }
   ],
   "source": [
    "# ハッシュ関数の挙動例\n",
    "print(\"hash(123)=\",hash(123))\n",
    "print(\"hash(123.456)=\",hash(123.456))\n",
    "print(\"hash('a')=\",hash('a'))\n",
    "print(\"hash((1,2))=\",hash((1,2)))"
   ]
  },
  {
   "cell_type": "code",
   "execution_count": 5,
   "metadata": {},
   "outputs": [],
   "source": [
    "class State():\n",
    "    \"\"\"\n",
    "    状態のクラス\n",
    "    \"\"\"\n",
    "    def __init__(self, row, col):\n",
    "        self.row = row\n",
    "        self.col = col\n",
    "\n",
    "    def clone(self):\n",
    "        \"\"\"\n",
    "        自分自身を複製するためのメソッド\n",
    "        \"\"\"\n",
    "        return State(self.row, self.col)\n",
    "    \n",
    "    def __hash__(self):\n",
    "        \"\"\"\n",
    "        Stateクラスのハッシュ値を返す特殊メソッド\n",
    "        \"\"\"\n",
    "        print(\"__hash__を実行しました\")\n",
    "        return hash((self.row, self.col))\n",
    "    \n",
    "    def __eq__(self, other):\n",
    "        \"\"\"\n",
    "        dictの検索をする際に用いられる特殊メソッド\n",
    "        \"\"\"\n",
    "        print(\"__eq__を実行しました\")\n",
    "        print(\"self.row == other.row and self.col == other.col = \", self.row == other.row and self.col == other.col)\n",
    "        return self.row == other.row and self.col == other.col\n",
    "\n",
    "\n",
    "    def __repr__(self):\n",
    "        \"\"\"\n",
    "        オブジェクトを表す文字列(representation)を返す特殊メソッド\n",
    "        \"\"\"\n",
    "        return \"<State: [{}, {}]>\".format(self.row, self.col)\n",
    "\n"
   ]
  },
  {
   "cell_type": "code",
   "execution_count": 6,
   "metadata": {},
   "outputs": [
    {
     "output_type": "stream",
     "name": "stdout",
     "text": [
      "__hash__を実行しました\n__hash__を実行しました\n__hash__を実行しました\n1910333527424 , 1910333526176 , 1910333526896 , 1910333526944\n\ndic_stateの中から、stateに対応するvalueを求める\n__hash__を実行しました\n__eq__を実行しました\nself.row == other.row and self.col == other.col =  True\n5678\n\n"
     ]
    }
   ],
   "source": [
    "# 特殊メソッド__hash__と__eq__の挙動を確認する\n",
    "state1 = State(1,1)\n",
    "state2 = State(1,2)\n",
    "state3 = State(1,3)\n",
    "dic_state = {state1:1234, state2:5678, state3:9999} # オブジェクトがkeyのdictをつくる\n",
    "state = State(1,2)\n",
    "print(id(state1), \",\", id(state2), \",\", id(state3), \",\" , id(state)) # 実態が異なるオブジェクト\n",
    "print()\n",
    "\n",
    "print(\"dic_stateの中から、stateに対応するvalueを求める\")\n",
    "print(dic_state[state]) \n",
    "print()\n",
    "# 上記が実行されると、まず、stateのハッシュ値を求め、そのハッシュ値と一致するkeyをdic_stateの中から探す\n",
    "# ハッシュ値が同じになるkeyが見つかったら、__eq__を実行し、returnを得る。returnがTrueであれば見つけたkeyに対応するvalueを返す"
   ]
  },
  {
   "cell_type": "code",
   "execution_count": 11,
   "metadata": {},
   "outputs": [
    {
     "output_type": "stream",
     "name": "stdout",
     "text": [
      "<State: [1, 2]>\n<State: [1, 2]>\n"
     ]
    }
   ],
   "source": [
    "# 特殊メソッド__repr__の挙動を確認する\n",
    "print(state.__repr__()) # __repr__のreturnに定義した文字列が返ってくる\n",
    "print(state) # __repr__のreturnに定義した文字列が返ってくる. .__repr__()を省略しても.__repr__()が実行される"
   ]
  },
  {
   "cell_type": "code",
   "execution_count": 6,
   "metadata": {},
   "outputs": [
    {
     "output_type": "stream",
     "name": "stdout",
     "text": [
      "OrderedDict([(0, 'UP'), (1, 'DOWN'), (2, 'LEFT'), (3, 'RIGHT')])\n"
     ]
    }
   ],
   "source": [
    "class Action():\n",
    "    \"\"\"\n",
    "    行動のクラス\n",
    "    \"\"\"\n",
    "    dic_actions = OrderedDict() # Pythn3.7系であれば、通常のdictでもよい\n",
    "    dic_actions[0] = \"UP\"\n",
    "    dic_actions[1] = \"DOWN\"\n",
    "    dic_actions[2] = \"LEFT\"\n",
    "    dic_actions[3] = \"RIGHT\"\n",
    "\n",
    "print(Action.dic_actions)"
   ]
  },
  {
   "cell_type": "code",
   "execution_count": null,
   "metadata": {},
   "outputs": [],
   "source": []
  },
  {
   "cell_type": "code",
   "execution_count": null,
   "metadata": {},
   "outputs": [],
   "source": []
  },
  {
   "cell_type": "code",
   "execution_count": null,
   "metadata": {},
   "outputs": [],
   "source": []
  }
 ],
 "metadata": {
  "kernelspec": {
   "display_name": "Python 3",
   "language": "python",
   "name": "python3"
  },
  "language_info": {
   "codemirror_mode": {
    "name": "ipython",
    "version": 3
   },
   "file_extension": ".py",
   "mimetype": "text/x-python",
   "name": "python",
   "nbconvert_exporter": "python",
   "pygments_lexer": "ipython3",
   "version": "3.8.4-final"
  }
 },
 "nbformat": 4,
 "nbformat_minor": 2
}