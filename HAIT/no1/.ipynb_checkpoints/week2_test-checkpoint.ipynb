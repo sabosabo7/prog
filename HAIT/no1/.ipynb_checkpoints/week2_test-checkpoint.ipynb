{
 "cells": [
  {
   "cell_type": "markdown",
   "metadata": {},
   "source": [
    "# HAITLab 第一回小テスト(〜「正則化」)"
   ]
  },
  {
   "cell_type": "markdown",
   "metadata": {},
   "source": [
    "### 問1 FizzBuzz(3点)\n",
    "<font size=\"3\" >[アルゴリズム]</font><br>\n",
    "数字を1からnまでを順に出力する。ただし、3で割り切れる時は、**\"Fizz\"**、5で割り切れる時は**\"Buzz\"**、15で割り切れる時は、**\"FIzzBuzz\"**と数字の代わりに出力する。以下はFizzBuzzゲームの進行例である。\n",
    "\n",
    "\n",
    ">1 2, Fizz 4 Buzz Fizz 7 8 FizBuzz 11 Fizz 13 14 FizzBuzz 16 17 Fizz 19 Buzz ...."
   ]
  },
  {
   "cell_type": "code",
   "execution_count": null,
   "metadata": {},
   "outputs": [],
   "source": [
    "##FizzBuzz 1~100の数字でFIzzBuzzゲームを実装する(3点)\n",
    "\n",
    "\n",
    "        \n",
    "#endは出力を縦長にしないために書いたため、なくても良い"
   ]
  },
  {
   "cell_type": "markdown",
   "metadata": {},
   "source": [
    "### 問2 Matplotlib/numpy(15点)\n",
    "`fruits.txt`という10種類の果物を1000個書き込んだテキストファイルがある。\n",
    "`fruits.txt`は以下の形式である。`¥n`は改行コードである。\n",
    "```\n",
    "apple¥n\n",
    "banana¥n\n",
    "   .\n",
    "   .\n",
    "   .\n",
    "```\n",
    "\n",
    "このファイルを解析する以下の問いに答えよ"
   ]
  },
  {
   "cell_type": "code",
   "execution_count": null,
   "metadata": {},
   "outputs": [],
   "source": [
    "#一度だけ実行すること\n",
    "\n",
    "#randomをimportする\n",
    "import random\n",
    "random.seed(1)\n",
    "\n",
    "#fruits.txtファイルを作成する\n",
    "with open('fruits.txt','w') as f:\n",
    "    for _ in range(1000):\n",
    "        f.write(random.choice(['apple', 'orange', 'strawberry', 'cherry', 'plum','banana', 'grape','lime', 'peach', 'watermelon'])+'\\n')"
   ]
  },
  {
   "cell_type": "markdown",
   "metadata": {},
   "source": [
    "### (1)`fruits.txt`からデータを読み込み、list型の変数`fruits`を作成せよ(2点)\n",
    ">fruits = [apple,banana, ....]"
   ]
  },
  {
   "cell_type": "markdown",
   "metadata": {},
   "source": [
    "<font size=\"3\" >[ヒント]</font>  \n",
    "ファイルの読み込みには`with open('filepath','r') as f`を使う"
   ]
  },
  {
   "cell_type": "code",
   "execution_count": null,
   "metadata": {},
   "outputs": [],
   "source": [
    "#listにする(2点)\n"
   ]
  },
  {
   "cell_type": "markdown",
   "metadata": {},
   "source": [
    "### (2)`fruits`にある果物の種類を表示するlist型の変数`fruits_list`の作成及び、果物の数を表示せよ。(3点)"
   ]
  },
  {
   "cell_type": "code",
   "execution_count": 2,
   "metadata": {},
   "outputs": [],
   "source": [
    "#fruits_listの作成(2点)\n",
    "\n",
    "\n",
    "\n",
    "#果物の数を表示(1点)\n"
   ]
  },
  {
   "cell_type": "markdown",
   "metadata": {},
   "source": [
    "### (3)`fruits`に果物がそれぞれ何個ずつあるのかを表示するdict型の変数`fruits_num`を作成せよ(3点)\n",
    "> fruits_num = {'peach': 10, 'melon'30, ....}"
   ]
  },
  {
   "cell_type": "code",
   "execution_count": null,
   "metadata": {},
   "outputs": [],
   "source": [
    "# fruits_numの作成(3点)\n"
   ]
  },
  {
   "cell_type": "markdown",
   "metadata": {},
   "source": [
    "### (4)matplotlibを用いてfruits_numを以下の指示に従って可視化せよ。(3点)\n",
    "1. 棒グラフで表示する。\n",
    "1. 縦軸は果物の個数,横軸は果物名をラベルとする。\n",
    "1. ラベルが重ならないように工夫すること。\n",
    "1. グラフのタイトル、縦軸、横軸のキャプションをつけること。"
   ]
  },
  {
   "cell_type": "code",
   "execution_count": null,
   "metadata": {},
   "outputs": [],
   "source": [
    "#グラフの表示(3点)\n"
   ]
  },
  {
   "cell_type": "markdown",
   "metadata": {},
   "source": [
    "### (5)求めたデータを用いて以下のnumpy配列A,Bを作成せよ(2点)\n",
    "$$\n",
    "A = \\left(\n",
    "\\begin{matrix} \n",
    " strawberryの個数　 & watermelonの個数　 \\\\ \n",
    "orangeの個数　 & bananaの個数　 \n",
    "\\end{matrix} \n",
    "\\right)\n",
    "$$\n",
    "$$\n",
    "B = \\left(\n",
    "\\begin{matrix} \n",
    " plumの個数　 & grapeの個数　 \\\\ \n",
    "cherryの個数　 & appleの個数　 \n",
    "\\end{matrix} \n",
    "\\right)\n",
    "$$"
   ]
  },
  {
   "cell_type": "code",
   "execution_count": null,
   "metadata": {},
   "outputs": [],
   "source": [
    "#配列A、Bの作成\n",
    "A =\n",
    "\n",
    "\n",
    "\n",
    "B =\n",
    "\n",
    "\n",
    "print(A) #1点\n",
    "print(B) #1点"
   ]
  },
  {
   "cell_type": "markdown",
   "metadata": {},
   "source": [
    "### (6)行列の和`A+B`及び、内積`A・B`を表示せよ(2点)"
   ]
  },
  {
   "cell_type": "code",
   "execution_count": null,
   "metadata": {},
   "outputs": [],
   "source": [
    "#行列の和の表示 #1点\n",
    "\n",
    "\n",
    "#行列の内積の表示 #1点\n",
    "\n"
   ]
  },
  {
   "cell_type": "markdown",
   "metadata": {},
   "source": [
    "### 問3 線形回帰(12点)"
   ]
  },
  {
   "cell_type": "markdown",
   "metadata": {},
   "source": [
    "ワインデータセットを用いて、ワインの品質を回帰分析によって予測する問題を考える。  "
   ]
  },
  {
   "cell_type": "code",
   "execution_count": null,
   "metadata": {},
   "outputs": [],
   "source": [
    "# コード改変禁止\n",
    "# データをインポート\n",
    "import pandas as pd\n",
    "\n",
    "data1 = pd.read_csv('./test_data.csv')\n",
    "data1.head()"
   ]
  },
  {
   "cell_type": "markdown",
   "metadata": {},
   "source": [
    "### (1) 説明変数と目的変数'quality'との相関係数行列を出力し、相関の強い変数を順番に3つ答えてください。(2点)"
   ]
  },
  {
   "cell_type": "code",
   "execution_count": null,
   "metadata": {},
   "outputs": [],
   "source": [
    "# 相関係数行列を出力(1点)\n"
   ]
  },
  {
   "cell_type": "markdown",
   "metadata": {},
   "source": [
    "#### 相関の強い変数を順番にMarkdown形式で3つ答えてください。(1点)\n",
    "相関が強いものから、[ここに記入]"
   ]
  },
  {
   "cell_type": "markdown",
   "metadata": {},
   "source": [
    "### (2) 以下の指示にしたがってデータの前処理を行ってください。(4点)"
   ]
  },
  {
   "cell_type": "code",
   "execution_count": null,
   "metadata": {},
   "outputs": [],
   "source": [
    "#sklearn.model_selectionからtrain_test_splitをimportする\n",
    "\n",
    "\n",
    "#sklearn.preprocessingからStandardScalerimportする\n",
    "\n",
    "#(全1点)"
   ]
  },
  {
   "cell_type": "code",
   "execution_count": null,
   "metadata": {},
   "outputs": [],
   "source": [
    "# Xに(1)で選んだ３つの変数、yに'quality' の値を代入してください。(1点)\n",
    "\n",
    "\n",
    "\n",
    "\n",
    "# X, yに対してデータの標準化を行ってください。(1点)\n",
    "\n",
    "\n",
    "\n",
    "\n",
    "\n",
    "# ホールドアウト法でデータを分割してください。ただし、trainデータの割合75%,とする。(1点)\n",
    "\n"
   ]
  },
  {
   "cell_type": "markdown",
   "metadata": {},
   "source": [
    "### (3) 以下の指示にしたがって線形回帰モデルを学習させ、性能評価を行ってください。(4点)"
   ]
  },
  {
   "cell_type": "code",
   "execution_count": 1,
   "metadata": {},
   "outputs": [],
   "source": [
    "#sklearn.linear_modelからLinearRegressionをimportする\n",
    "\n",
    "\n",
    "#sklearn.metricsからmean_squared_errorをmseとしてimportする\n",
    "\n",
    "#(全1点)"
   ]
  },
  {
   "cell_type": "code",
   "execution_count": null,
   "metadata": {},
   "outputs": [],
   "source": [
    "# 線形回帰インスタンスを生成(1点)\n",
    "\n",
    "\n",
    "# 重回帰分析の学習を行ってください(1点)\n",
    "\n",
    "\n",
    "# trainデータとtestデータのそれぞれについてRMSE(平均二乗誤差の平方根)を出力してください(1点)\n",
    "\n",
    "\n",
    "\n",
    "\n"
   ]
  },
  {
   "cell_type": "markdown",
   "metadata": {},
   "source": [
    "### (4) 学習モデルの標準変回帰係数を出力し、重要度の高い変数を順番に3つ答えてください。(2点)"
   ]
  },
  {
   "cell_type": "code",
   "execution_count": null,
   "metadata": {},
   "outputs": [],
   "source": [
    "# 標準変回帰係数の出力(1点)\n"
   ]
  },
  {
   "cell_type": "markdown",
   "metadata": {},
   "source": [
    "#### 重要度の強い変数を順番にMarkdown形式で3つ答えてください。(1点)\n",
    "重要度が強いものから、"
   ]
  }
 ],
 "metadata": {
  "kernelspec": {
   "display_name": "Python 3",
   "language": "python",
   "name": "python3"
  },
  "language_info": {
   "codemirror_mode": {
    "name": "ipython",
    "version": 3
   },
   "file_extension": ".py",
   "mimetype": "text/x-python",
   "name": "python",
   "nbconvert_exporter": "python",
   "pygments_lexer": "ipython3",
   "version": "3.8.3"
  }
 },
 "nbformat": 4,
 "nbformat_minor": 2
}
