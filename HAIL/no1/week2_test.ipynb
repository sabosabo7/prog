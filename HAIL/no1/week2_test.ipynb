{
  "nbformat": 4,
  "nbformat_minor": 0,
  "metadata": {
    "kernelspec": {
      "name": "python3",
      "display_name": "Python 3.8.5 64-bit"
    },
    "language_info": {
      "codemirror_mode": {
        "name": "ipython",
        "version": 3
      },
      "file_extension": ".py",
      "mimetype": "text/x-python",
      "name": "python",
      "nbconvert_exporter": "python",
      "pygments_lexer": "ipython3",
      "version": "3.8.5"
    },
    "colab": {
      "name": "week2_test.ipynb",
      "provenance": [],
      "collapsed_sections": [
        "tyBLsDKoXRq7",
        "Q1V0ciRMXRq7",
        "DXmL1kQCXRq8",
        "1DGApcOaXRq8",
        "REA1YKIVXRq9"
      ]
    },
    "interpreter": {
      "hash": "916dbcbb3f70747c44a77c7bcd40155683ae19c65e1c03b4aa3499c5328201f1"
    }
  },
  "cells": [
    {
      "cell_type": "markdown",
      "metadata": {
        "id": "1ylNEANdXRqy"
      },
      "source": [
        "# HAITLab 第一回小テスト(〜「正則化」)"
      ]
    },
    {
      "cell_type": "markdown",
      "metadata": {
        "id": "pfqiibb4XRq1"
      },
      "source": [
        "### 問1 FizzBuzz(3点)\n",
        "<font size=\"3\" >[アルゴリズム]</font><br>\n",
        "数字を1からnまでを順に出力する。ただし、3で割り切れる時は、**\"Fizz\"**、5で割り切れる時は**\"Buzz\"**、15で割り切れる時は、**\"FIzzBuzz\"**と数字の代わりに出力する。以下はFizzBuzzゲームの進行例である。\n",
        "\n",
        "\n",
        ">1 2, Fizz 4 Buzz Fizz 7 8 FizBuzz 11 Fizz 13 14 FizzBuzz 16 17 Fizz 19 Buzz ...."
      ]
    },
    {
      "cell_type": "code",
      "metadata": {
        "colab": {
          "base_uri": "https://localhost:8080/"
        },
        "id": "UwqooFd9XRq1",
        "outputId": "2ccb7315-6a7d-485d-c2e2-cf6eb608fb90"
      },
      "source": [
        "##FizzBuzz 1~100の数字でFIzzBuzzゲームを実装する(3点)\n",
        "for i in range(1,101):\n",
        "  out=\"\"\n",
        "  if i%3==0:\n",
        "    out+=\"Fizz\"\n",
        "  if i%5==0:\n",
        "    out+=\"Buzz\"\n",
        "  if out==\"\":\n",
        "    out+=str(i)\n",
        "  print(out,end=\" \")\n",
        "\n",
        "        \n",
        "#endは出力を縦長にしないために書いたため、なくても良い"
      ],
      "execution_count": 1,
      "outputs": [
        {
          "output_type": "stream",
          "name": "stdout",
          "text": [
            "1 2 Fizz 4 Buzz Fizz 7 8 Fizz Buzz 11 Fizz 13 14 FizzBuzz 16 17 Fizz 19 Buzz Fizz 22 23 Fizz Buzz 26 Fizz 28 29 FizzBuzz 31 32 Fizz 34 Buzz Fizz 37 38 Fizz Buzz 41 Fizz 43 44 FizzBuzz 46 47 Fizz 49 Buzz Fizz 52 53 Fizz Buzz 56 Fizz 58 59 FizzBuzz 61 62 Fizz 64 Buzz Fizz 67 68 Fizz Buzz 71 Fizz 73 74 FizzBuzz 76 77 Fizz 79 Buzz Fizz 82 83 Fizz Buzz 86 Fizz 88 89 FizzBuzz 91 92 Fizz 94 Buzz Fizz 97 98 Fizz Buzz "
          ]
        }
      ]
    },
    {
      "cell_type": "markdown",
      "metadata": {
        "id": "J_EX6VvdXRq2"
      },
      "source": [
        "### 問2 Matplotlib/numpy(15点)\n",
        "`fruits.txt`という10種類の果物を1000個書き込んだテキストファイルがある。\n",
        "`fruits.txt`は以下の形式である。`¥n`は改行コードである。\n",
        "```\n",
        "apple¥n\n",
        "banana¥n\n",
        "   .\n",
        "   .\n",
        "   .\n",
        "```\n",
        "\n",
        "このファイルを解析する以下の問いに答えよ"
      ]
    },
    {
      "cell_type": "code",
      "metadata": {
        "id": "MvNYjO_JXRq2"
      },
      "source": [
        "#一度だけ実行すること\n",
        "\n",
        "#randomをimportする\n",
        "import random\n",
        "random.seed(1)\n",
        "\n",
        "#fruits.txtファイルを作成する\n",
        "with open('fruits.txt','w') as f:\n",
        "    for _ in range(1000):\n",
        "        f.write(random.choice(['apple', 'orange', 'strawberry', 'cherry', 'plum','banana', 'grape','lime', 'peach', 'watermelon'])+'\\n')"
      ],
      "execution_count": 2,
      "outputs": []
    },
    {
      "cell_type": "markdown",
      "metadata": {
        "id": "6_CzAvPZXRq3"
      },
      "source": [
        "### (1)`fruits.txt`からデータを読み込み、list型の変数`fruits`を作成せよ(2点)\n",
        ">fruits = [apple,banana, ....]"
      ]
    },
    {
      "cell_type": "markdown",
      "metadata": {
        "id": "8PwhtcLGXRq3"
      },
      "source": [
        "<font size=\"3\" >[ヒント]</font>  \n",
        "ファイルの読み込みには`with open('filepath','r') as f`を使う"
      ]
    },
    {
      "cell_type": "code",
      "metadata": {
        "id": "4nHyDiSCXRq3"
      },
      "source": [
        "#listにする(2点)\n",
        "with open('fruits.txt','r') as f:\n",
        "    fruits=f.read().splitlines()\n",
        "f.close() "
      ],
      "execution_count": 3,
      "outputs": []
    },
    {
      "cell_type": "markdown",
      "metadata": {
        "id": "YYrIFmKZXRq3"
      },
      "source": [
        "### (2)`fruits`にある果物の種類を表示するlist型の変数`fruits_list`の作成及び、果物の数を表示せよ。(3点)"
      ]
    },
    {
      "cell_type": "code",
      "metadata": {
        "colab": {
          "base_uri": "https://localhost:8080/"
        },
        "id": "rTDEkIGsXRq4",
        "outputId": "3f48bc24-756f-4b8b-bc3e-480b4ebd3de4"
      },
      "source": [
        "#fruits_listの作成(2点)\n",
        "fruits_list=list(set(fruits))\n",
        "\n",
        "#果物の数を表示(1点)\n",
        "len(fruits)"
      ],
      "execution_count": 4,
      "outputs": [
        {
          "output_type": "execute_result",
          "data": {
            "text/plain": [
              "1000"
            ]
          },
          "metadata": {},
          "execution_count": 4
        }
      ]
    },
    {
      "cell_type": "markdown",
      "metadata": {
        "id": "gVvaXsqoXRq4"
      },
      "source": [
        "### (3)`fruits`に果物がそれぞれ何個ずつあるのかを表示するdict型の変数`fruits_num`を作成せよ(3点)\n",
        "> fruits_num = {'peach': 10, 'melon'30, ....}"
      ]
    },
    {
      "cell_type": "code",
      "metadata": {
        "id": "LJuHnJ3MXRq4"
      },
      "source": [
        "# fruits_numの作成(3点)\n",
        "fruits_num=dict.fromkeys(fruits_list,0)\n",
        "for f in fruits:\n",
        "  fruits_num[f]+=1"
      ],
      "execution_count": 5,
      "outputs": []
    },
    {
      "cell_type": "markdown",
      "metadata": {
        "id": "9ayi3N8ZXRq5"
      },
      "source": [
        "### (4)matplotlibを用いてfruits_numを以下の指示に従って可視化せよ。(3点)\n",
        "1. 棒グラフで表示する。\n",
        "1. 縦軸は果物の個数,横軸は果物名をラベルとする。\n",
        "1. ラベルが重ならないように工夫すること。\n",
        "1. グラフのタイトル、縦軸、横軸のキャプションをつけること。"
      ]
    },
    {
      "cell_type": "code",
      "metadata": {
        "colab": {
          "base_uri": "https://localhost:8080/",
          "height": 404
        },
        "id": "iRfO1CnAXRq5",
        "outputId": "b3c9b488-4506-4774-afb8-97acb90add75"
      },
      "source": [
        "#グラフの表示(3点)\n",
        "import matplotlib.pyplot as plt\n",
        "plt.figure(figsize=(12,6))\n",
        "plt.bar(fruits_num.keys(),fruits_num.values())\n",
        "plt.xlabel(\"fruits\")\n",
        "plt.ylabel(\"number\")\n",
        "plt.title(\"fruits_num\")\n",
        "plt.show()"
      ],
      "execution_count": 6,
      "outputs": [
        {
          "output_type": "display_data",
          "data": {
            "text/plain": "<Figure size 864x432 with 1 Axes>",
            "image/svg+xml": "<?xml version=\"1.0\" encoding=\"utf-8\" standalone=\"no\"?>\n<!DOCTYPE svg PUBLIC \"-//W3C//DTD SVG 1.1//EN\"\n  \"http://www.w3.org/Graphics/SVG/1.1/DTD/svg11.dtd\">\n<svg height=\"386.034375pt\" version=\"1.1\" viewBox=\"0 0 723.765625 386.034375\" width=\"723.765625pt\" xmlns=\"http://www.w3.org/2000/svg\" xmlns:xlink=\"http://www.w3.org/1999/xlink\">\n <metadata>\n  <rdf:RDF xmlns:cc=\"http://creativecommons.org/ns#\" xmlns:dc=\"http://purl.org/dc/elements/1.1/\" xmlns:rdf=\"http://www.w3.org/1999/02/22-rdf-syntax-ns#\">\n   <cc:Work>\n    <dc:type rdf:resource=\"http://purl.org/dc/dcmitype/StillImage\"/>\n    <dc:date>2021-06-17T16:32:32.249593</dc:date>\n    <dc:format>image/svg+xml</dc:format>\n    <dc:creator>\n     <cc:Agent>\n      <dc:title>Matplotlib v3.4.1, https://matplotlib.org/</dc:title>\n     </cc:Agent>\n    </dc:creator>\n   </cc:Work>\n  </rdf:RDF>\n </metadata>\n <defs>\n  <style type=\"text/css\">*{stroke-linecap:butt;stroke-linejoin:round;}</style>\n </defs>\n <g id=\"figure_1\">\n  <g id=\"patch_1\">\n   <path d=\"M 0 386.034375 \nL 723.765625 386.034375 \nL 723.765625 0 \nL 0 0 \nz\n\" style=\"fill:none;\"/>\n  </g>\n  <g id=\"axes_1\">\n   <g id=\"patch_2\">\n    <path d=\"M 46.965625 348.478125 \nL 716.565625 348.478125 \nL 716.565625 22.318125 \nL 46.965625 22.318125 \nz\n\" style=\"fill:#ffffff;\"/>\n   </g>\n   <g id=\"patch_3\">\n    <path clip-path=\"url(#p472a017f69)\" d=\"M 77.401989 348.478125 \nL 127.094011 348.478125 \nL 127.094011 56.121822 \nL 77.401989 56.121822 \nz\n\" style=\"fill:#1f77b4;\"/>\n   </g>\n   <g id=\"patch_4\">\n    <path clip-path=\"url(#p472a017f69)\" d=\"M 139.517016 348.478125 \nL 189.209039 348.478125 \nL 189.209039 82.225064 \nL 139.517016 82.225064 \nz\n\" style=\"fill:#1f77b4;\"/>\n   </g>\n   <g id=\"patch_5\">\n    <path clip-path=\"url(#p472a017f69)\" d=\"M 201.632044 348.478125 \nL 251.324067 348.478125 \nL 251.324067 92.66636 \nL 201.632044 92.66636 \nz\n\" style=\"fill:#1f77b4;\"/>\n   </g>\n   <g id=\"patch_6\">\n    <path clip-path=\"url(#p472a017f69)\" d=\"M 263.747072 348.478125 \nL 313.439094 348.478125 \nL 313.439094 97.887009 \nL 263.747072 97.887009 \nz\n\" style=\"fill:#1f77b4;\"/>\n   </g>\n   <g id=\"patch_7\">\n    <path clip-path=\"url(#p472a017f69)\" d=\"M 325.8621 348.478125 \nL 375.554122 348.478125 \nL 375.554122 108.328305 \nL 325.8621 108.328305 \nz\n\" style=\"fill:#1f77b4;\"/>\n   </g>\n   <g id=\"patch_8\">\n    <path clip-path=\"url(#p472a017f69)\" d=\"M 387.977128 348.478125 \nL 437.66915 348.478125 \nL 437.66915 84.835388 \nL 387.977128 84.835388 \nz\n\" style=\"fill:#1f77b4;\"/>\n   </g>\n   <g id=\"patch_9\">\n    <path clip-path=\"url(#p472a017f69)\" d=\"M 450.092156 348.478125 \nL 499.784178 348.478125 \nL 499.784178 105.717981 \nL 450.092156 105.717981 \nz\n\" style=\"fill:#1f77b4;\"/>\n   </g>\n   <g id=\"patch_10\">\n    <path clip-path=\"url(#p472a017f69)\" d=\"M 512.207183 348.478125 \nL 561.899206 348.478125 \nL 561.899206 37.849554 \nL 512.207183 37.849554 \nz\n\" style=\"fill:#1f77b4;\"/>\n   </g>\n   <g id=\"patch_11\">\n    <path clip-path=\"url(#p472a017f69)\" d=\"M 574.322211 348.478125 \nL 624.014234 348.478125 \nL 624.014234 92.66636 \nL 574.322211 92.66636 \nz\n\" style=\"fill:#1f77b4;\"/>\n   </g>\n   <g id=\"patch_12\">\n    <path clip-path=\"url(#p472a017f69)\" d=\"M 636.437239 348.478125 \nL 686.129261 348.478125 \nL 686.129261 116.159277 \nL 636.437239 116.159277 \nz\n\" style=\"fill:#1f77b4;\"/>\n   </g>\n   <g id=\"matplotlib.axis_1\">\n    <g id=\"xtick_1\">\n     <g id=\"line2d_1\">\n      <defs>\n       <path d=\"M 0 0 \nL 0 3.5 \n\" id=\"m4078a26a60\" style=\"stroke:#000000;stroke-width:0.8;\"/>\n      </defs>\n      <g>\n       <use style=\"stroke:#000000;stroke-width:0.8;\" x=\"102.248\" xlink:href=\"#m4078a26a60\" y=\"348.478125\"/>\n      </g>\n     </g>\n     <g id=\"text_1\">\n      <!-- plum -->\n      <g transform=\"translate(89.645656 363.076562)scale(0.1 -0.1)\">\n       <defs>\n        <path d=\"M 1159 525 \nL 1159 -1331 \nL 581 -1331 \nL 581 3500 \nL 1159 3500 \nL 1159 2969 \nQ 1341 3281 1617 3432 \nQ 1894 3584 2278 3584 \nQ 2916 3584 3314 3078 \nQ 3713 2572 3713 1747 \nQ 3713 922 3314 415 \nQ 2916 -91 2278 -91 \nQ 1894 -91 1617 61 \nQ 1341 213 1159 525 \nz\nM 3116 1747 \nQ 3116 2381 2855 2742 \nQ 2594 3103 2138 3103 \nQ 1681 3103 1420 2742 \nQ 1159 2381 1159 1747 \nQ 1159 1113 1420 752 \nQ 1681 391 2138 391 \nQ 2594 391 2855 752 \nQ 3116 1113 3116 1747 \nz\n\" id=\"DejaVuSans-70\" transform=\"scale(0.015625)\"/>\n        <path d=\"M 603 4863 \nL 1178 4863 \nL 1178 0 \nL 603 0 \nL 603 4863 \nz\n\" id=\"DejaVuSans-6c\" transform=\"scale(0.015625)\"/>\n        <path d=\"M 544 1381 \nL 544 3500 \nL 1119 3500 \nL 1119 1403 \nQ 1119 906 1312 657 \nQ 1506 409 1894 409 \nQ 2359 409 2629 706 \nQ 2900 1003 2900 1516 \nL 2900 3500 \nL 3475 3500 \nL 3475 0 \nL 2900 0 \nL 2900 538 \nQ 2691 219 2414 64 \nQ 2138 -91 1772 -91 \nQ 1169 -91 856 284 \nQ 544 659 544 1381 \nz\nM 1991 3584 \nL 1991 3584 \nz\n\" id=\"DejaVuSans-75\" transform=\"scale(0.015625)\"/>\n        <path d=\"M 3328 2828 \nQ 3544 3216 3844 3400 \nQ 4144 3584 4550 3584 \nQ 5097 3584 5394 3201 \nQ 5691 2819 5691 2113 \nL 5691 0 \nL 5113 0 \nL 5113 2094 \nQ 5113 2597 4934 2840 \nQ 4756 3084 4391 3084 \nQ 3944 3084 3684 2787 \nQ 3425 2491 3425 1978 \nL 3425 0 \nL 2847 0 \nL 2847 2094 \nQ 2847 2600 2669 2842 \nQ 2491 3084 2119 3084 \nQ 1678 3084 1418 2786 \nQ 1159 2488 1159 1978 \nL 1159 0 \nL 581 0 \nL 581 3500 \nL 1159 3500 \nL 1159 2956 \nQ 1356 3278 1631 3431 \nQ 1906 3584 2284 3584 \nQ 2666 3584 2933 3390 \nQ 3200 3197 3328 2828 \nz\n\" id=\"DejaVuSans-6d\" transform=\"scale(0.015625)\"/>\n       </defs>\n       <use xlink:href=\"#DejaVuSans-70\"/>\n       <use x=\"63.476562\" xlink:href=\"#DejaVuSans-6c\"/>\n       <use x=\"91.259766\" xlink:href=\"#DejaVuSans-75\"/>\n       <use x=\"154.638672\" xlink:href=\"#DejaVuSans-6d\"/>\n      </g>\n     </g>\n    </g>\n    <g id=\"xtick_2\">\n     <g id=\"line2d_2\">\n      <g>\n       <use style=\"stroke:#000000;stroke-width:0.8;\" x=\"164.363028\" xlink:href=\"#m4078a26a60\" y=\"348.478125\"/>\n      </g>\n     </g>\n     <g id=\"text_2\">\n      <!-- grape -->\n      <g transform=\"translate(149.818496 363.076562)scale(0.1 -0.1)\">\n       <defs>\n        <path d=\"M 2906 1791 \nQ 2906 2416 2648 2759 \nQ 2391 3103 1925 3103 \nQ 1463 3103 1205 2759 \nQ 947 2416 947 1791 \nQ 947 1169 1205 825 \nQ 1463 481 1925 481 \nQ 2391 481 2648 825 \nQ 2906 1169 2906 1791 \nz\nM 3481 434 \nQ 3481 -459 3084 -895 \nQ 2688 -1331 1869 -1331 \nQ 1566 -1331 1297 -1286 \nQ 1028 -1241 775 -1147 \nL 775 -588 \nQ 1028 -725 1275 -790 \nQ 1522 -856 1778 -856 \nQ 2344 -856 2625 -561 \nQ 2906 -266 2906 331 \nL 2906 616 \nQ 2728 306 2450 153 \nQ 2172 0 1784 0 \nQ 1141 0 747 490 \nQ 353 981 353 1791 \nQ 353 2603 747 3093 \nQ 1141 3584 1784 3584 \nQ 2172 3584 2450 3431 \nQ 2728 3278 2906 2969 \nL 2906 3500 \nL 3481 3500 \nL 3481 434 \nz\n\" id=\"DejaVuSans-67\" transform=\"scale(0.015625)\"/>\n        <path d=\"M 2631 2963 \nQ 2534 3019 2420 3045 \nQ 2306 3072 2169 3072 \nQ 1681 3072 1420 2755 \nQ 1159 2438 1159 1844 \nL 1159 0 \nL 581 0 \nL 581 3500 \nL 1159 3500 \nL 1159 2956 \nQ 1341 3275 1631 3429 \nQ 1922 3584 2338 3584 \nQ 2397 3584 2469 3576 \nQ 2541 3569 2628 3553 \nL 2631 2963 \nz\n\" id=\"DejaVuSans-72\" transform=\"scale(0.015625)\"/>\n        <path d=\"M 2194 1759 \nQ 1497 1759 1228 1600 \nQ 959 1441 959 1056 \nQ 959 750 1161 570 \nQ 1363 391 1709 391 \nQ 2188 391 2477 730 \nQ 2766 1069 2766 1631 \nL 2766 1759 \nL 2194 1759 \nz\nM 3341 1997 \nL 3341 0 \nL 2766 0 \nL 2766 531 \nQ 2569 213 2275 61 \nQ 1981 -91 1556 -91 \nQ 1019 -91 701 211 \nQ 384 513 384 1019 \nQ 384 1609 779 1909 \nQ 1175 2209 1959 2209 \nL 2766 2209 \nL 2766 2266 \nQ 2766 2663 2505 2880 \nQ 2244 3097 1772 3097 \nQ 1472 3097 1187 3025 \nQ 903 2953 641 2809 \nL 641 3341 \nQ 956 3463 1253 3523 \nQ 1550 3584 1831 3584 \nQ 2591 3584 2966 3190 \nQ 3341 2797 3341 1997 \nz\n\" id=\"DejaVuSans-61\" transform=\"scale(0.015625)\"/>\n        <path d=\"M 3597 1894 \nL 3597 1613 \nL 953 1613 \nQ 991 1019 1311 708 \nQ 1631 397 2203 397 \nQ 2534 397 2845 478 \nQ 3156 559 3463 722 \nL 3463 178 \nQ 3153 47 2828 -22 \nQ 2503 -91 2169 -91 \nQ 1331 -91 842 396 \nQ 353 884 353 1716 \nQ 353 2575 817 3079 \nQ 1281 3584 2069 3584 \nQ 2775 3584 3186 3129 \nQ 3597 2675 3597 1894 \nz\nM 3022 2063 \nQ 3016 2534 2758 2815 \nQ 2500 3097 2075 3097 \nQ 1594 3097 1305 2825 \nQ 1016 2553 972 2059 \nL 3022 2063 \nz\n\" id=\"DejaVuSans-65\" transform=\"scale(0.015625)\"/>\n       </defs>\n       <use xlink:href=\"#DejaVuSans-67\"/>\n       <use x=\"63.476562\" xlink:href=\"#DejaVuSans-72\"/>\n       <use x=\"104.589844\" xlink:href=\"#DejaVuSans-61\"/>\n       <use x=\"165.869141\" xlink:href=\"#DejaVuSans-70\"/>\n       <use x=\"229.345703\" xlink:href=\"#DejaVuSans-65\"/>\n      </g>\n     </g>\n    </g>\n    <g id=\"xtick_3\">\n     <g id=\"line2d_3\">\n      <g>\n       <use style=\"stroke:#000000;stroke-width:0.8;\" x=\"226.478055\" xlink:href=\"#m4078a26a60\" y=\"348.478125\"/>\n      </g>\n     </g>\n     <g id=\"text_3\">\n      <!-- apple -->\n      <g transform=\"translate(212.59993 363.076562)scale(0.1 -0.1)\">\n       <use xlink:href=\"#DejaVuSans-61\"/>\n       <use x=\"61.279297\" xlink:href=\"#DejaVuSans-70\"/>\n       <use x=\"124.755859\" xlink:href=\"#DejaVuSans-70\"/>\n       <use x=\"188.232422\" xlink:href=\"#DejaVuSans-6c\"/>\n       <use x=\"216.015625\" xlink:href=\"#DejaVuSans-65\"/>\n      </g>\n     </g>\n    </g>\n    <g id=\"xtick_4\">\n     <g id=\"line2d_4\">\n      <g>\n       <use style=\"stroke:#000000;stroke-width:0.8;\" x=\"288.593083\" xlink:href=\"#m4078a26a60\" y=\"348.478125\"/>\n      </g>\n     </g>\n     <g id=\"text_4\">\n      <!-- cherry -->\n      <g transform=\"translate(272.61574 363.076562)scale(0.1 -0.1)\">\n       <defs>\n        <path d=\"M 3122 3366 \nL 3122 2828 \nQ 2878 2963 2633 3030 \nQ 2388 3097 2138 3097 \nQ 1578 3097 1268 2742 \nQ 959 2388 959 1747 \nQ 959 1106 1268 751 \nQ 1578 397 2138 397 \nQ 2388 397 2633 464 \nQ 2878 531 3122 666 \nL 3122 134 \nQ 2881 22 2623 -34 \nQ 2366 -91 2075 -91 \nQ 1284 -91 818 406 \nQ 353 903 353 1747 \nQ 353 2603 823 3093 \nQ 1294 3584 2113 3584 \nQ 2378 3584 2631 3529 \nQ 2884 3475 3122 3366 \nz\n\" id=\"DejaVuSans-63\" transform=\"scale(0.015625)\"/>\n        <path d=\"M 3513 2113 \nL 3513 0 \nL 2938 0 \nL 2938 2094 \nQ 2938 2591 2744 2837 \nQ 2550 3084 2163 3084 \nQ 1697 3084 1428 2787 \nQ 1159 2491 1159 1978 \nL 1159 0 \nL 581 0 \nL 581 4863 \nL 1159 4863 \nL 1159 2956 \nQ 1366 3272 1645 3428 \nQ 1925 3584 2291 3584 \nQ 2894 3584 3203 3211 \nQ 3513 2838 3513 2113 \nz\n\" id=\"DejaVuSans-68\" transform=\"scale(0.015625)\"/>\n        <path d=\"M 2059 -325 \nQ 1816 -950 1584 -1140 \nQ 1353 -1331 966 -1331 \nL 506 -1331 \nL 506 -850 \nL 844 -850 \nQ 1081 -850 1212 -737 \nQ 1344 -625 1503 -206 \nL 1606 56 \nL 191 3500 \nL 800 3500 \nL 1894 763 \nL 2988 3500 \nL 3597 3500 \nL 2059 -325 \nz\n\" id=\"DejaVuSans-79\" transform=\"scale(0.015625)\"/>\n       </defs>\n       <use xlink:href=\"#DejaVuSans-63\"/>\n       <use x=\"54.980469\" xlink:href=\"#DejaVuSans-68\"/>\n       <use x=\"118.359375\" xlink:href=\"#DejaVuSans-65\"/>\n       <use x=\"179.882812\" xlink:href=\"#DejaVuSans-72\"/>\n       <use x=\"219.246094\" xlink:href=\"#DejaVuSans-72\"/>\n       <use x=\"260.359375\" xlink:href=\"#DejaVuSans-79\"/>\n      </g>\n     </g>\n    </g>\n    <g id=\"xtick_5\">\n     <g id=\"line2d_5\">\n      <g>\n       <use style=\"stroke:#000000;stroke-width:0.8;\" x=\"350.708111\" xlink:href=\"#m4078a26a60\" y=\"348.478125\"/>\n      </g>\n     </g>\n     <g id=\"text_5\">\n      <!-- banana -->\n      <g transform=\"translate(332.004205 363.076562)scale(0.1 -0.1)\">\n       <defs>\n        <path d=\"M 3116 1747 \nQ 3116 2381 2855 2742 \nQ 2594 3103 2138 3103 \nQ 1681 3103 1420 2742 \nQ 1159 2381 1159 1747 \nQ 1159 1113 1420 752 \nQ 1681 391 2138 391 \nQ 2594 391 2855 752 \nQ 3116 1113 3116 1747 \nz\nM 1159 2969 \nQ 1341 3281 1617 3432 \nQ 1894 3584 2278 3584 \nQ 2916 3584 3314 3078 \nQ 3713 2572 3713 1747 \nQ 3713 922 3314 415 \nQ 2916 -91 2278 -91 \nQ 1894 -91 1617 61 \nQ 1341 213 1159 525 \nL 1159 0 \nL 581 0 \nL 581 4863 \nL 1159 4863 \nL 1159 2969 \nz\n\" id=\"DejaVuSans-62\" transform=\"scale(0.015625)\"/>\n        <path d=\"M 3513 2113 \nL 3513 0 \nL 2938 0 \nL 2938 2094 \nQ 2938 2591 2744 2837 \nQ 2550 3084 2163 3084 \nQ 1697 3084 1428 2787 \nQ 1159 2491 1159 1978 \nL 1159 0 \nL 581 0 \nL 581 3500 \nL 1159 3500 \nL 1159 2956 \nQ 1366 3272 1645 3428 \nQ 1925 3584 2291 3584 \nQ 2894 3584 3203 3211 \nQ 3513 2838 3513 2113 \nz\n\" id=\"DejaVuSans-6e\" transform=\"scale(0.015625)\"/>\n       </defs>\n       <use xlink:href=\"#DejaVuSans-62\"/>\n       <use x=\"63.476562\" xlink:href=\"#DejaVuSans-61\"/>\n       <use x=\"124.755859\" xlink:href=\"#DejaVuSans-6e\"/>\n       <use x=\"188.134766\" xlink:href=\"#DejaVuSans-61\"/>\n       <use x=\"249.414062\" xlink:href=\"#DejaVuSans-6e\"/>\n       <use x=\"312.792969\" xlink:href=\"#DejaVuSans-61\"/>\n      </g>\n     </g>\n    </g>\n    <g id=\"xtick_6\">\n     <g id=\"line2d_6\">\n      <g>\n       <use style=\"stroke:#000000;stroke-width:0.8;\" x=\"412.823139\" xlink:href=\"#m4078a26a60\" y=\"348.478125\"/>\n      </g>\n     </g>\n     <g id=\"text_6\">\n      <!-- orange -->\n      <g transform=\"translate(395.224701 363.076562)scale(0.1 -0.1)\">\n       <defs>\n        <path d=\"M 1959 3097 \nQ 1497 3097 1228 2736 \nQ 959 2375 959 1747 \nQ 959 1119 1226 758 \nQ 1494 397 1959 397 \nQ 2419 397 2687 759 \nQ 2956 1122 2956 1747 \nQ 2956 2369 2687 2733 \nQ 2419 3097 1959 3097 \nz\nM 1959 3584 \nQ 2709 3584 3137 3096 \nQ 3566 2609 3566 1747 \nQ 3566 888 3137 398 \nQ 2709 -91 1959 -91 \nQ 1206 -91 779 398 \nQ 353 888 353 1747 \nQ 353 2609 779 3096 \nQ 1206 3584 1959 3584 \nz\n\" id=\"DejaVuSans-6f\" transform=\"scale(0.015625)\"/>\n       </defs>\n       <use xlink:href=\"#DejaVuSans-6f\"/>\n       <use x=\"61.181641\" xlink:href=\"#DejaVuSans-72\"/>\n       <use x=\"102.294922\" xlink:href=\"#DejaVuSans-61\"/>\n       <use x=\"163.574219\" xlink:href=\"#DejaVuSans-6e\"/>\n       <use x=\"226.953125\" xlink:href=\"#DejaVuSans-67\"/>\n       <use x=\"290.429688\" xlink:href=\"#DejaVuSans-65\"/>\n      </g>\n     </g>\n    </g>\n    <g id=\"xtick_7\">\n     <g id=\"line2d_7\">\n      <g>\n       <use style=\"stroke:#000000;stroke-width:0.8;\" x=\"474.938167\" xlink:href=\"#m4078a26a60\" y=\"348.478125\"/>\n      </g>\n     </g>\n     <g id=\"text_7\">\n      <!-- strawberry -->\n      <g transform=\"translate(447.931135 363.076562)scale(0.1 -0.1)\">\n       <defs>\n        <path d=\"M 2834 3397 \nL 2834 2853 \nQ 2591 2978 2328 3040 \nQ 2066 3103 1784 3103 \nQ 1356 3103 1142 2972 \nQ 928 2841 928 2578 \nQ 928 2378 1081 2264 \nQ 1234 2150 1697 2047 \nL 1894 2003 \nQ 2506 1872 2764 1633 \nQ 3022 1394 3022 966 \nQ 3022 478 2636 193 \nQ 2250 -91 1575 -91 \nQ 1294 -91 989 -36 \nQ 684 19 347 128 \nL 347 722 \nQ 666 556 975 473 \nQ 1284 391 1588 391 \nQ 1994 391 2212 530 \nQ 2431 669 2431 922 \nQ 2431 1156 2273 1281 \nQ 2116 1406 1581 1522 \nL 1381 1569 \nQ 847 1681 609 1914 \nQ 372 2147 372 2553 \nQ 372 3047 722 3315 \nQ 1072 3584 1716 3584 \nQ 2034 3584 2315 3537 \nQ 2597 3491 2834 3397 \nz\n\" id=\"DejaVuSans-73\" transform=\"scale(0.015625)\"/>\n        <path d=\"M 1172 4494 \nL 1172 3500 \nL 2356 3500 \nL 2356 3053 \nL 1172 3053 \nL 1172 1153 \nQ 1172 725 1289 603 \nQ 1406 481 1766 481 \nL 2356 481 \nL 2356 0 \nL 1766 0 \nQ 1100 0 847 248 \nQ 594 497 594 1153 \nL 594 3053 \nL 172 3053 \nL 172 3500 \nL 594 3500 \nL 594 4494 \nL 1172 4494 \nz\n\" id=\"DejaVuSans-74\" transform=\"scale(0.015625)\"/>\n        <path d=\"M 269 3500 \nL 844 3500 \nL 1563 769 \nL 2278 3500 \nL 2956 3500 \nL 3675 769 \nL 4391 3500 \nL 4966 3500 \nL 4050 0 \nL 3372 0 \nL 2619 2869 \nL 1863 0 \nL 1184 0 \nL 269 3500 \nz\n\" id=\"DejaVuSans-77\" transform=\"scale(0.015625)\"/>\n       </defs>\n       <use xlink:href=\"#DejaVuSans-73\"/>\n       <use x=\"52.099609\" xlink:href=\"#DejaVuSans-74\"/>\n       <use x=\"91.308594\" xlink:href=\"#DejaVuSans-72\"/>\n       <use x=\"132.421875\" xlink:href=\"#DejaVuSans-61\"/>\n       <use x=\"193.701172\" xlink:href=\"#DejaVuSans-77\"/>\n       <use x=\"275.488281\" xlink:href=\"#DejaVuSans-62\"/>\n       <use x=\"338.964844\" xlink:href=\"#DejaVuSans-65\"/>\n       <use x=\"400.488281\" xlink:href=\"#DejaVuSans-72\"/>\n       <use x=\"439.851562\" xlink:href=\"#DejaVuSans-72\"/>\n       <use x=\"480.964844\" xlink:href=\"#DejaVuSans-79\"/>\n      </g>\n     </g>\n    </g>\n    <g id=\"xtick_8\">\n     <g id=\"line2d_8\">\n      <g>\n       <use style=\"stroke:#000000;stroke-width:0.8;\" x=\"537.053195\" xlink:href=\"#m4078a26a60\" y=\"348.478125\"/>\n      </g>\n     </g>\n     <g id=\"text_8\">\n      <!-- peach -->\n      <g transform=\"translate(521.820382 363.076562)scale(0.1 -0.1)\">\n       <use xlink:href=\"#DejaVuSans-70\"/>\n       <use x=\"63.476562\" xlink:href=\"#DejaVuSans-65\"/>\n       <use x=\"125\" xlink:href=\"#DejaVuSans-61\"/>\n       <use x=\"186.279297\" xlink:href=\"#DejaVuSans-63\"/>\n       <use x=\"241.259766\" xlink:href=\"#DejaVuSans-68\"/>\n      </g>\n     </g>\n    </g>\n    <g id=\"xtick_9\">\n     <g id=\"line2d_9\">\n      <g>\n       <use style=\"stroke:#000000;stroke-width:0.8;\" x=\"599.168222\" xlink:href=\"#m4078a26a60\" y=\"348.478125\"/>\n      </g>\n     </g>\n     <g id=\"text_9\">\n      <!-- watermelon -->\n      <g transform=\"translate(569.446347 363.076562)scale(0.1 -0.1)\">\n       <use xlink:href=\"#DejaVuSans-77\"/>\n       <use x=\"81.787109\" xlink:href=\"#DejaVuSans-61\"/>\n       <use x=\"143.066406\" xlink:href=\"#DejaVuSans-74\"/>\n       <use x=\"182.275391\" xlink:href=\"#DejaVuSans-65\"/>\n       <use x=\"243.798828\" xlink:href=\"#DejaVuSans-72\"/>\n       <use x=\"283.162109\" xlink:href=\"#DejaVuSans-6d\"/>\n       <use x=\"380.574219\" xlink:href=\"#DejaVuSans-65\"/>\n       <use x=\"442.097656\" xlink:href=\"#DejaVuSans-6c\"/>\n       <use x=\"469.880859\" xlink:href=\"#DejaVuSans-6f\"/>\n       <use x=\"531.0625\" xlink:href=\"#DejaVuSans-6e\"/>\n      </g>\n     </g>\n    </g>\n    <g id=\"xtick_10\">\n     <g id=\"line2d_10\">\n      <g>\n       <use style=\"stroke:#000000;stroke-width:0.8;\" x=\"661.28325\" xlink:href=\"#m4078a26a60\" y=\"348.478125\"/>\n      </g>\n     </g>\n     <g id=\"text_10\">\n      <!-- lime -->\n      <g transform=\"translate(650.55825 363.076562)scale(0.1 -0.1)\">\n       <defs>\n        <path d=\"M 603 3500 \nL 1178 3500 \nL 1178 0 \nL 603 0 \nL 603 3500 \nz\nM 603 4863 \nL 1178 4863 \nL 1178 4134 \nL 603 4134 \nL 603 4863 \nz\n\" id=\"DejaVuSans-69\" transform=\"scale(0.015625)\"/>\n       </defs>\n       <use xlink:href=\"#DejaVuSans-6c\"/>\n       <use x=\"27.783203\" xlink:href=\"#DejaVuSans-69\"/>\n       <use x=\"55.566406\" xlink:href=\"#DejaVuSans-6d\"/>\n       <use x=\"152.978516\" xlink:href=\"#DejaVuSans-65\"/>\n      </g>\n     </g>\n    </g>\n    <g id=\"text_11\">\n     <!-- fruits -->\n     <g transform=\"translate(368.827344 376.754687)scale(0.1 -0.1)\">\n      <defs>\n       <path d=\"M 2375 4863 \nL 2375 4384 \nL 1825 4384 \nQ 1516 4384 1395 4259 \nQ 1275 4134 1275 3809 \nL 1275 3500 \nL 2222 3500 \nL 2222 3053 \nL 1275 3053 \nL 1275 0 \nL 697 0 \nL 697 3053 \nL 147 3053 \nL 147 3500 \nL 697 3500 \nL 697 3744 \nQ 697 4328 969 4595 \nQ 1241 4863 1831 4863 \nL 2375 4863 \nz\n\" id=\"DejaVuSans-66\" transform=\"scale(0.015625)\"/>\n      </defs>\n      <use xlink:href=\"#DejaVuSans-66\"/>\n      <use x=\"35.205078\" xlink:href=\"#DejaVuSans-72\"/>\n      <use x=\"76.318359\" xlink:href=\"#DejaVuSans-75\"/>\n      <use x=\"139.697266\" xlink:href=\"#DejaVuSans-69\"/>\n      <use x=\"167.480469\" xlink:href=\"#DejaVuSans-74\"/>\n      <use x=\"206.689453\" xlink:href=\"#DejaVuSans-73\"/>\n     </g>\n    </g>\n   </g>\n   <g id=\"matplotlib.axis_2\">\n    <g id=\"ytick_1\">\n     <g id=\"line2d_11\">\n      <defs>\n       <path d=\"M 0 0 \nL -3.5 0 \n\" id=\"m3edb36e6c1\" style=\"stroke:#000000;stroke-width:0.8;\"/>\n      </defs>\n      <g>\n       <use style=\"stroke:#000000;stroke-width:0.8;\" x=\"46.965625\" xlink:href=\"#m3edb36e6c1\" y=\"348.478125\"/>\n      </g>\n     </g>\n     <g id=\"text_12\">\n      <!-- 0 -->\n      <g transform=\"translate(33.603125 352.277344)scale(0.1 -0.1)\">\n       <defs>\n        <path d=\"M 2034 4250 \nQ 1547 4250 1301 3770 \nQ 1056 3291 1056 2328 \nQ 1056 1369 1301 889 \nQ 1547 409 2034 409 \nQ 2525 409 2770 889 \nQ 3016 1369 3016 2328 \nQ 3016 3291 2770 3770 \nQ 2525 4250 2034 4250 \nz\nM 2034 4750 \nQ 2819 4750 3233 4129 \nQ 3647 3509 3647 2328 \nQ 3647 1150 3233 529 \nQ 2819 -91 2034 -91 \nQ 1250 -91 836 529 \nQ 422 1150 422 2328 \nQ 422 3509 836 4129 \nQ 1250 4750 2034 4750 \nz\n\" id=\"DejaVuSans-30\" transform=\"scale(0.015625)\"/>\n       </defs>\n       <use xlink:href=\"#DejaVuSans-30\"/>\n      </g>\n     </g>\n    </g>\n    <g id=\"ytick_2\">\n     <g id=\"line2d_12\">\n      <g>\n       <use style=\"stroke:#000000;stroke-width:0.8;\" x=\"46.965625\" xlink:href=\"#m3edb36e6c1\" y=\"296.271642\"/>\n      </g>\n     </g>\n     <g id=\"text_13\">\n      <!-- 20 -->\n      <g transform=\"translate(27.240625 300.070861)scale(0.1 -0.1)\">\n       <defs>\n        <path d=\"M 1228 531 \nL 3431 531 \nL 3431 0 \nL 469 0 \nL 469 531 \nQ 828 903 1448 1529 \nQ 2069 2156 2228 2338 \nQ 2531 2678 2651 2914 \nQ 2772 3150 2772 3378 \nQ 2772 3750 2511 3984 \nQ 2250 4219 1831 4219 \nQ 1534 4219 1204 4116 \nQ 875 4013 500 3803 \nL 500 4441 \nQ 881 4594 1212 4672 \nQ 1544 4750 1819 4750 \nQ 2544 4750 2975 4387 \nQ 3406 4025 3406 3419 \nQ 3406 3131 3298 2873 \nQ 3191 2616 2906 2266 \nQ 2828 2175 2409 1742 \nQ 1991 1309 1228 531 \nz\n\" id=\"DejaVuSans-32\" transform=\"scale(0.015625)\"/>\n       </defs>\n       <use xlink:href=\"#DejaVuSans-32\"/>\n       <use x=\"63.623047\" xlink:href=\"#DejaVuSans-30\"/>\n      </g>\n     </g>\n    </g>\n    <g id=\"ytick_3\">\n     <g id=\"line2d_13\">\n      <g>\n       <use style=\"stroke:#000000;stroke-width:0.8;\" x=\"46.965625\" xlink:href=\"#m3edb36e6c1\" y=\"244.06516\"/>\n      </g>\n     </g>\n     <g id=\"text_14\">\n      <!-- 40 -->\n      <g transform=\"translate(27.240625 247.864379)scale(0.1 -0.1)\">\n       <defs>\n        <path d=\"M 2419 4116 \nL 825 1625 \nL 2419 1625 \nL 2419 4116 \nz\nM 2253 4666 \nL 3047 4666 \nL 3047 1625 \nL 3713 1625 \nL 3713 1100 \nL 3047 1100 \nL 3047 0 \nL 2419 0 \nL 2419 1100 \nL 313 1100 \nL 313 1709 \nL 2253 4666 \nz\n\" id=\"DejaVuSans-34\" transform=\"scale(0.015625)\"/>\n       </defs>\n       <use xlink:href=\"#DejaVuSans-34\"/>\n       <use x=\"63.623047\" xlink:href=\"#DejaVuSans-30\"/>\n      </g>\n     </g>\n    </g>\n    <g id=\"ytick_4\">\n     <g id=\"line2d_14\">\n      <g>\n       <use style=\"stroke:#000000;stroke-width:0.8;\" x=\"46.965625\" xlink:href=\"#m3edb36e6c1\" y=\"191.858677\"/>\n      </g>\n     </g>\n     <g id=\"text_15\">\n      <!-- 60 -->\n      <g transform=\"translate(27.240625 195.657896)scale(0.1 -0.1)\">\n       <defs>\n        <path d=\"M 2113 2584 \nQ 1688 2584 1439 2293 \nQ 1191 2003 1191 1497 \nQ 1191 994 1439 701 \nQ 1688 409 2113 409 \nQ 2538 409 2786 701 \nQ 3034 994 3034 1497 \nQ 3034 2003 2786 2293 \nQ 2538 2584 2113 2584 \nz\nM 3366 4563 \nL 3366 3988 \nQ 3128 4100 2886 4159 \nQ 2644 4219 2406 4219 \nQ 1781 4219 1451 3797 \nQ 1122 3375 1075 2522 \nQ 1259 2794 1537 2939 \nQ 1816 3084 2150 3084 \nQ 2853 3084 3261 2657 \nQ 3669 2231 3669 1497 \nQ 3669 778 3244 343 \nQ 2819 -91 2113 -91 \nQ 1303 -91 875 529 \nQ 447 1150 447 2328 \nQ 447 3434 972 4092 \nQ 1497 4750 2381 4750 \nQ 2619 4750 2861 4703 \nQ 3103 4656 3366 4563 \nz\n\" id=\"DejaVuSans-36\" transform=\"scale(0.015625)\"/>\n       </defs>\n       <use xlink:href=\"#DejaVuSans-36\"/>\n       <use x=\"63.623047\" xlink:href=\"#DejaVuSans-30\"/>\n      </g>\n     </g>\n    </g>\n    <g id=\"ytick_5\">\n     <g id=\"line2d_15\">\n      <g>\n       <use style=\"stroke:#000000;stroke-width:0.8;\" x=\"46.965625\" xlink:href=\"#m3edb36e6c1\" y=\"139.652195\"/>\n      </g>\n     </g>\n     <g id=\"text_16\">\n      <!-- 80 -->\n      <g transform=\"translate(27.240625 143.451413)scale(0.1 -0.1)\">\n       <defs>\n        <path d=\"M 2034 2216 \nQ 1584 2216 1326 1975 \nQ 1069 1734 1069 1313 \nQ 1069 891 1326 650 \nQ 1584 409 2034 409 \nQ 2484 409 2743 651 \nQ 3003 894 3003 1313 \nQ 3003 1734 2745 1975 \nQ 2488 2216 2034 2216 \nz\nM 1403 2484 \nQ 997 2584 770 2862 \nQ 544 3141 544 3541 \nQ 544 4100 942 4425 \nQ 1341 4750 2034 4750 \nQ 2731 4750 3128 4425 \nQ 3525 4100 3525 3541 \nQ 3525 3141 3298 2862 \nQ 3072 2584 2669 2484 \nQ 3125 2378 3379 2068 \nQ 3634 1759 3634 1313 \nQ 3634 634 3220 271 \nQ 2806 -91 2034 -91 \nQ 1263 -91 848 271 \nQ 434 634 434 1313 \nQ 434 1759 690 2068 \nQ 947 2378 1403 2484 \nz\nM 1172 3481 \nQ 1172 3119 1398 2916 \nQ 1625 2713 2034 2713 \nQ 2441 2713 2670 2916 \nQ 2900 3119 2900 3481 \nQ 2900 3844 2670 4047 \nQ 2441 4250 2034 4250 \nQ 1625 4250 1398 4047 \nQ 1172 3844 1172 3481 \nz\n\" id=\"DejaVuSans-38\" transform=\"scale(0.015625)\"/>\n       </defs>\n       <use xlink:href=\"#DejaVuSans-38\"/>\n       <use x=\"63.623047\" xlink:href=\"#DejaVuSans-30\"/>\n      </g>\n     </g>\n    </g>\n    <g id=\"ytick_6\">\n     <g id=\"line2d_16\">\n      <g>\n       <use style=\"stroke:#000000;stroke-width:0.8;\" x=\"46.965625\" xlink:href=\"#m3edb36e6c1\" y=\"87.445712\"/>\n      </g>\n     </g>\n     <g id=\"text_17\">\n      <!-- 100 -->\n      <g transform=\"translate(20.878125 91.244931)scale(0.1 -0.1)\">\n       <defs>\n        <path d=\"M 794 531 \nL 1825 531 \nL 1825 4091 \nL 703 3866 \nL 703 4441 \nL 1819 4666 \nL 2450 4666 \nL 2450 531 \nL 3481 531 \nL 3481 0 \nL 794 0 \nL 794 531 \nz\n\" id=\"DejaVuSans-31\" transform=\"scale(0.015625)\"/>\n       </defs>\n       <use xlink:href=\"#DejaVuSans-31\"/>\n       <use x=\"63.623047\" xlink:href=\"#DejaVuSans-30\"/>\n       <use x=\"127.246094\" xlink:href=\"#DejaVuSans-30\"/>\n      </g>\n     </g>\n    </g>\n    <g id=\"ytick_7\">\n     <g id=\"line2d_17\">\n      <g>\n       <use style=\"stroke:#000000;stroke-width:0.8;\" x=\"46.965625\" xlink:href=\"#m3edb36e6c1\" y=\"35.239229\"/>\n      </g>\n     </g>\n     <g id=\"text_18\">\n      <!-- 120 -->\n      <g transform=\"translate(20.878125 39.038448)scale(0.1 -0.1)\">\n       <use xlink:href=\"#DejaVuSans-31\"/>\n       <use x=\"63.623047\" xlink:href=\"#DejaVuSans-32\"/>\n       <use x=\"127.246094\" xlink:href=\"#DejaVuSans-30\"/>\n      </g>\n     </g>\n    </g>\n    <g id=\"text_19\">\n     <!-- number -->\n     <g transform=\"translate(14.798438 204.912187)rotate(-90)scale(0.1 -0.1)\">\n      <use xlink:href=\"#DejaVuSans-6e\"/>\n      <use x=\"63.378906\" xlink:href=\"#DejaVuSans-75\"/>\n      <use x=\"126.757812\" xlink:href=\"#DejaVuSans-6d\"/>\n      <use x=\"224.169922\" xlink:href=\"#DejaVuSans-62\"/>\n      <use x=\"287.646484\" xlink:href=\"#DejaVuSans-65\"/>\n      <use x=\"349.169922\" xlink:href=\"#DejaVuSans-72\"/>\n     </g>\n    </g>\n   </g>\n   <g id=\"patch_13\">\n    <path d=\"M 46.965625 348.478125 \nL 46.965625 22.318125 \n\" style=\"fill:none;stroke:#000000;stroke-linecap:square;stroke-linejoin:miter;stroke-width:0.8;\"/>\n   </g>\n   <g id=\"patch_14\">\n    <path d=\"M 716.565625 348.478125 \nL 716.565625 22.318125 \n\" style=\"fill:none;stroke:#000000;stroke-linecap:square;stroke-linejoin:miter;stroke-width:0.8;\"/>\n   </g>\n   <g id=\"patch_15\">\n    <path d=\"M 46.965625 348.478125 \nL 716.565625 348.478125 \n\" style=\"fill:none;stroke:#000000;stroke-linecap:square;stroke-linejoin:miter;stroke-width:0.8;\"/>\n   </g>\n   <g id=\"patch_16\">\n    <path d=\"M 46.965625 22.318125 \nL 716.565625 22.318125 \n\" style=\"fill:none;stroke:#000000;stroke-linecap:square;stroke-linejoin:miter;stroke-width:0.8;\"/>\n   </g>\n   <g id=\"text_20\">\n    <!-- fruits_num -->\n    <g transform=\"translate(349.790313 16.318125)scale(0.12 -0.12)\">\n     <defs>\n      <path d=\"M 3263 -1063 \nL 3263 -1509 \nL -63 -1509 \nL -63 -1063 \nL 3263 -1063 \nz\n\" id=\"DejaVuSans-5f\" transform=\"scale(0.015625)\"/>\n     </defs>\n     <use xlink:href=\"#DejaVuSans-66\"/>\n     <use x=\"35.205078\" xlink:href=\"#DejaVuSans-72\"/>\n     <use x=\"76.318359\" xlink:href=\"#DejaVuSans-75\"/>\n     <use x=\"139.697266\" xlink:href=\"#DejaVuSans-69\"/>\n     <use x=\"167.480469\" xlink:href=\"#DejaVuSans-74\"/>\n     <use x=\"206.689453\" xlink:href=\"#DejaVuSans-73\"/>\n     <use x=\"258.789062\" xlink:href=\"#DejaVuSans-5f\"/>\n     <use x=\"308.789062\" xlink:href=\"#DejaVuSans-6e\"/>\n     <use x=\"372.167969\" xlink:href=\"#DejaVuSans-75\"/>\n     <use x=\"435.546875\" xlink:href=\"#DejaVuSans-6d\"/>\n    </g>\n   </g>\n  </g>\n </g>\n <defs>\n  <clipPath id=\"p472a017f69\">\n   <rect height=\"326.16\" width=\"669.6\" x=\"46.965625\" y=\"22.318125\"/>\n  </clipPath>\n </defs>\n</svg>\n",
            "image/png": "[encoded data removed]"
          },
          "metadata": {
            "needs_background": "light"
          }
        }
      ]
    },
    {
      "cell_type": "markdown",
      "metadata": {
        "id": "sqU_BP4tXRq5"
      },
      "source": [
        "### (5)求めたデータを用いて以下のnumpy配列A,Bを作成せよ(2点)\n",
        "$$\n",
        "A = \\left(\n",
        "\\begin{matrix} \n",
        " strawberryの個数　 & watermelonの個数　 \\\\ \n",
        "orangeの個数　 & bananaの個数　 \n",
        "\\end{matrix} \n",
        "\\right)\n",
        "$$\n",
        "$$\n",
        "B = \\left(\n",
        "\\begin{matrix} \n",
        " plumの個数　 & grapeの個数　 \\\\ \n",
        "cherryの個数　 & appleの個数　 \n",
        "\\end{matrix} \n",
        "\\right)\n",
        "$$"
      ]
    },
    {
      "cell_type": "code",
      "metadata": {
        "colab": {
          "base_uri": "https://localhost:8080/"
        },
        "id": "aagB7Qg7XRq5",
        "outputId": "db5af9db-5488-45ef-a09f-417462d4f66e"
      },
      "source": [
        "#配列A、Bの作成\n",
        "import numpy as np\n",
        "A =np.array([[fruits_num[\"strawberry\"],fruits_num[\"watermelon\"]],[fruits_num[\"orange\"],fruits_num[\"banana\"]]])\n",
        "\n",
        "\n",
        "\n",
        "B =np.array([[fruits_num[\"plum\"],fruits_num[\"grape\"]],[fruits_num[\"cherry\"],fruits_num[\"apple\"]]])\n",
        "\n",
        "\n",
        "print(A) #1点\n",
        "print(B) #1点"
      ],
      "execution_count": 7,
      "outputs": [
        {
          "output_type": "stream",
          "name": "stdout",
          "text": [
            "[[ 93  98]\n [101  92]]\n[[112 102]\n [ 96  98]]\n"
          ]
        }
      ]
    },
    {
      "cell_type": "markdown",
      "metadata": {
        "id": "pRSFOeZLXRq6"
      },
      "source": [
        "### (6)行列の和`A+B`及び、内積`A・B`を表示せよ(2点)"
      ]
    },
    {
      "cell_type": "code",
      "metadata": {
        "colab": {
          "base_uri": "https://localhost:8080/"
        },
        "id": "kACgBr10XRq6",
        "outputId": "03ca551b-108a-4c08-d4e3-beafc3ed3f8c"
      },
      "source": [
        "#行列の和の表示 #1点\n",
        "print(A+B)\n",
        "\n",
        "#行列の内積の表示 #1点\n",
        "print(np.dot(A,B))\n"
      ],
      "execution_count": 8,
      "outputs": [
        {
          "output_type": "stream",
          "name": "stdout",
          "text": [
            "[[205 200]\n [197 190]]\n[[19824 19090]\n [20144 19318]]\n"
          ]
        }
      ]
    },
    {
      "cell_type": "markdown",
      "metadata": {
        "id": "NPjfgt9pXRq6"
      },
      "source": [
        "### 問3 線形回帰(12点)"
      ]
    },
    {
      "cell_type": "markdown",
      "metadata": {
        "id": "044wFZPKXRq6"
      },
      "source": [
        "ワインデータセットを用いて、ワインの品質を回帰分析によって予測する問題を考える。  "
      ]
    },
    {
      "cell_type": "code",
      "metadata": {
        "colab": {
          "base_uri": "https://localhost:8080/",
          "height": 430
        },
        "id": "VbY-f7lNXRq6",
        "outputId": "9a02c71e-fffd-4801-977f-b31776bf4db6"
      },
      "source": [
        "# コード改変禁止\n",
        "# データをインポート\n",
        "import pandas as pd\n",
        "\n",
        "data1 = pd.read_csv('./test_data.csv')\n",
        "data1.head()"
      ],
      "execution_count": 9,
      "outputs": [
        {
          "output_type": "execute_result",
          "data": {
            "text/plain": [
              "   fixed acidity  volatile acidity  citric acid  residual sugar  chlorides  \\\n",
              "0            7.4              0.70         0.00             1.9      0.076   \n",
              "1            7.8              0.88         0.00             2.6      0.098   \n",
              "2            7.8              0.76         0.04             2.3      0.092   \n",
              "3           11.2              0.28         0.56             1.9      0.075   \n",
              "4            7.4              0.70         0.00             1.9      0.076   \n",
              "\n",
              "   free sulfur dioxide  total sulfur dioxide  density    pH  sulphates  \\\n",
              "0                 11.0                  34.0   0.9978  3.51       0.56   \n",
              "1                 25.0                  67.0   0.9968  3.20       0.68   \n",
              "2                 15.0                  54.0   0.9970  3.26       0.65   \n",
              "3                 17.0                  60.0   0.9980  3.16       0.58   \n",
              "4                 11.0                  34.0   0.9978  3.51       0.56   \n",
              "\n",
              "   alcohol  quality  \n",
              "0      9.4        5  \n",
              "1      9.8        5  \n",
              "2      9.8        5  \n",
              "3      9.8        6  \n",
              "4      9.4        5  "
            ],
            "text/html": "<div>\n<style scoped>\n    .dataframe tbody tr th:only-of-type {\n        vertical-align: middle;\n    }\n\n    .dataframe tbody tr th {\n        vertical-align: top;\n    }\n\n    .dataframe thead th {\n        text-align: right;\n    }\n</style>\n<table border=\"1\" class=\"dataframe\">\n  <thead>\n    <tr style=\"text-align: right;\">\n      <th></th>\n      <th>fixed acidity</th>\n      <th>volatile acidity</th>\n      <th>citric acid</th>\n      <th>residual sugar</th>\n      <th>chlorides</th>\n      <th>free sulfur dioxide</th>\n      <th>total sulfur dioxide</th>\n      <th>density</th>\n      <th>pH</th>\n      <th>sulphates</th>\n      <th>alcohol</th>\n      <th>quality</th>\n    </tr>\n  </thead>\n  <tbody>\n    <tr>\n      <th>0</th>\n      <td>7.4</td>\n      <td>0.70</td>\n      <td>0.00</td>\n      <td>1.9</td>\n      <td>0.076</td>\n      <td>11.0</td>\n      <td>34.0</td>\n      <td>0.9978</td>\n      <td>3.51</td>\n      <td>0.56</td>\n      <td>9.4</td>\n      <td>5</td>\n    </tr>\n    <tr>\n      <th>1</th>\n      <td>7.8</td>\n      <td>0.88</td>\n      <td>0.00</td>\n      <td>2.6</td>\n      <td>0.098</td>\n      <td>25.0</td>\n      <td>67.0</td>\n      <td>0.9968</td>\n      <td>3.20</td>\n      <td>0.68</td>\n      <td>9.8</td>\n      <td>5</td>\n    </tr>\n    <tr>\n      <th>2</th>\n      <td>7.8</td>\n      <td>0.76</td>\n      <td>0.04</td>\n      <td>2.3</td>\n      <td>0.092</td>\n      <td>15.0</td>\n      <td>54.0</td>\n      <td>0.9970</td>\n      <td>3.26</td>\n      <td>0.65</td>\n      <td>9.8</td>\n      <td>5</td>\n    </tr>\n    <tr>\n      <th>3</th>\n      <td>11.2</td>\n      <td>0.28</td>\n      <td>0.56</td>\n      <td>1.9</td>\n      <td>0.075</td>\n      <td>17.0</td>\n      <td>60.0</td>\n      <td>0.9980</td>\n      <td>3.16</td>\n      <td>0.58</td>\n      <td>9.8</td>\n      <td>6</td>\n    </tr>\n    <tr>\n      <th>4</th>\n      <td>7.4</td>\n      <td>0.70</td>\n      <td>0.00</td>\n      <td>1.9</td>\n      <td>0.076</td>\n      <td>11.0</td>\n      <td>34.0</td>\n      <td>0.9978</td>\n      <td>3.51</td>\n      <td>0.56</td>\n      <td>9.4</td>\n      <td>5</td>\n    </tr>\n  </tbody>\n</table>\n</div>"
          },
          "metadata": {},
          "execution_count": 9
        }
      ]
    },
    {
      "cell_type": "markdown",
      "metadata": {
        "id": "ULHhSUdZXRq6"
      },
      "source": [
        "### (1) 説明変数と目的変数'quality'との相関係数行列を出力し、相関の強い変数を順番に3つ答えてください。(2点)"
      ]
    },
    {
      "cell_type": "code",
      "metadata": {
        "id": "-E8oJtNZXRq7"
      },
      "source": [
        "# 相関係数行列を出力(1点)\n",
        "data1.corr()[\"quality\"]"
      ],
      "execution_count": 10,
      "outputs": [
        {
          "output_type": "execute_result",
          "data": {
            "text/plain": [
              "fixed acidity           0.124052\n",
              "volatile acidity       -0.390558\n",
              "citric acid             0.226373\n",
              "residual sugar          0.013732\n",
              "chlorides              -0.128907\n",
              "free sulfur dioxide    -0.050656\n",
              "total sulfur dioxide   -0.185100\n",
              "density                -0.174919\n",
              "pH                     -0.057731\n",
              "sulphates               0.251397\n",
              "alcohol                 0.476166\n",
              "quality                 1.000000\n",
              "Name: quality, dtype: float64"
            ]
          },
          "metadata": {},
          "execution_count": 10
        }
      ]
    },
    {
      "cell_type": "markdown",
      "metadata": {
        "id": "tyBLsDKoXRq7"
      },
      "source": [
        "#### 相関の強い変数を順番にMarkdown形式で3つ答えてください。(1点)\n",
        "相関が強いものから、alcohol,volatile acidity,sulphates\n"
      ]
    },
    {
      "cell_type": "markdown",
      "metadata": {
        "id": "Q1V0ciRMXRq7"
      },
      "source": [
        "### (2) 以下の指示にしたがってデータの前処理を行ってください。(4点)"
      ]
    },
    {
      "cell_type": "code",
      "metadata": {
        "id": "daraA3LUXRq7"
      },
      "source": [
        "#sklearn.model_selectionからtrain_test_splitをimportする\n",
        "from sklearn.model_selection import train_test_split\n",
        "\n",
        "#sklearn.preprocessingからStandardScalerimportする\n",
        "from sklearn.preprocessing import StandardScaler\n",
        "#(全1点)"
      ],
      "execution_count": 11,
      "outputs": []
    },
    {
      "cell_type": "code",
      "metadata": {
        "id": "w4nLyTzAXRq7"
      },
      "source": [
        "# Xに(1)で選んだ３つの変数、yに'quality' の値を代入してください。(1点)\n",
        "X=data1.loc[:,[\"alcohol\",\"volatile acidity\",\"sulphates\"]].values\n",
        "y=data1.loc[:,[\"quality\"]].values\n",
        "\n",
        "\n",
        "# X, yに対してデータの標準化を行ってください。(1点)\n",
        "ss=StandardScaler()\n",
        "X_ss=ss.fit_transform(X)\n",
        "y_ss=ss.fit_transform(y)\n",
        "\n",
        "\n",
        "\n",
        "# ホールドアウト法でデータを分割してください。ただし、trainデータの割合75%,とする。(1点)\n",
        "X_ss_train,X_ss_test,y_ss_train,y_ss_test= train_test_split(X_ss,y_ss,test_size=0.25)\n"
      ],
      "execution_count": 12,
      "outputs": []
    },
    {
      "cell_type": "markdown",
      "metadata": {
        "id": "DXmL1kQCXRq8"
      },
      "source": [
        "### (3) 以下の指示にしたがって線形回帰モデルを学習させ、性能評価を行ってください。(4点)"
      ]
    },
    {
      "cell_type": "code",
      "metadata": {
        "id": "WkLs4QM-XRq8"
      },
      "source": [
        "#sklearn.linear_modelからLinearRegressionをimportする\n",
        "from sklearn.linear_model import LinearRegression\n",
        "\n",
        "#sklearn.metricsからmean_squared_errorをmseとしてimportする\n",
        "from sklearn.metrics import mean_squared_error as mse\n",
        "#(全1点)"
      ],
      "execution_count": 13,
      "outputs": []
    },
    {
      "cell_type": "code",
      "metadata": {
        "id": "4qrxRIgIXRq8"
      },
      "source": [
        "# 線形回帰インスタンスを生成(1点)\n",
        "model = LinearRegression()\n",
        "\n",
        "# 重回帰分析の学習を行ってください(1点)\n",
        "model.fit(X_ss_train,y_ss_train)\n",
        "\n",
        "# trainデータとtestデータのそれぞれについてRMSE(平均二乗誤差の平方根)を出力してください(1点)\n",
        "print(\"train: \"+str(mse(y_ss_train,model.predict(X_ss_train))**0.5))\n",
        "print(\"test: \"+str(mse(y_ss_test,model.predict(X_ss_test))**0.5))\n",
        "\n",
        "\n",
        "\n"
      ],
      "execution_count": 14,
      "outputs": [
        {
          "output_type": "stream",
          "name": "stdout",
          "text": [
            "train: 0.8227739978035403\ntest: 0.7960443853552062\n"
          ]
        }
      ]
    },
    {
      "cell_type": "markdown",
      "metadata": {
        "id": "1DGApcOaXRq8"
      },
      "source": [
        "### (4) 学習モデルの標準変回帰係数を出力し、重要度の高い変数を順番に3つ答えてください。(2点)"
      ]
    },
    {
      "cell_type": "code",
      "metadata": {
        "id": "H-xwxnNxXRq8"
      },
      "source": [
        "# 標準変回帰係数の出力(1点)\n",
        "model.coef_"
      ],
      "execution_count": 15,
      "outputs": [
        {
          "output_type": "execute_result",
          "data": {
            "text/plain": [
              "array([[ 0.41446623, -0.26393076,  0.18168257]])"
            ]
          },
          "metadata": {},
          "execution_count": 15
        }
      ]
    },
    {
      "cell_type": "markdown",
      "metadata": {
        "id": "REA1YKIVXRq9"
      },
      "source": [
        "#### 重要度の強い変数を順番にMarkdown形式で3つ答えてください。(1点)\n",
        "重要度が強いものから、\"alcohol\",\"volatile acidity\",\"sulphates\""
      ]
    },
    {
      "cell_type": "code",
      "execution_count": null,
      "metadata": {},
      "outputs": [],
      "source": []
    }
  ]
}